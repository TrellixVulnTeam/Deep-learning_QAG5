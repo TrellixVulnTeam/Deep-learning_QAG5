{
 "cells": [
  {
   "cell_type": "code",
   "execution_count": 1,
   "metadata": {},
   "outputs": [],
   "source": [
    "import torch"
   ]
  },
  {
   "cell_type": "markdown",
   "metadata": {},
   "source": [
    "##  1 𝐓𝐞𝐧𝐬𝐨𝐫 减法实验"
   ]
  },
  {
   "cell_type": "code",
   "execution_count": 2,
   "metadata": {},
   "outputs": [
    {
     "output_type": "execute_result",
     "data": {
      "text/plain": "(tensor([[0.5765, 0.3713, 0.5624]]),\n tensor([[0.9063],\n         [0.5366]]))"
     },
     "metadata": {},
     "execution_count": 2
    }
   ],
   "source": [
    "M = torch.rand(1, 3)\n",
    "N = torch.rand(2, 1)\n",
    "M, N"
   ]
  },
  {
   "cell_type": "code",
   "execution_count": 3,
   "metadata": {},
   "outputs": [
    {
     "output_type": "stream",
     "name": "stdout",
     "text": "sub1- tensor([[-0.3298, -0.5350, -0.3438],\n        [ 0.0399, -0.1653,  0.0258]])\nsub2- tensor([[-0.3298, -0.5350, -0.3438],\n        [ 0.0399, -0.1653,  0.0258]])\n"
    },
    {
     "output_type": "error",
     "ename": "RuntimeError",
     "evalue": "output with shape [1, 3] doesn't match the broadcast shape [2, 3]",
     "traceback": [
      "\u001b[1;31m---------------------------------------------------------------------------\u001b[0m",
      "\u001b[1;31mRuntimeError\u001b[0m                              Traceback (most recent call last)",
      "\u001b[1;32m<ipython-input-3-1a847d0d6efa>\u001b[0m in \u001b[0;36m<module>\u001b[1;34m\u001b[0m\n\u001b[0;32m      1\u001b[0m \u001b[0mprint\u001b[0m\u001b[1;33m(\u001b[0m\u001b[1;34m\"sub1-\"\u001b[0m\u001b[1;33m,\u001b[0m \u001b[0mM\u001b[0m\u001b[1;33m-\u001b[0m\u001b[0mN\u001b[0m\u001b[1;33m)\u001b[0m\u001b[1;33m\u001b[0m\u001b[1;33m\u001b[0m\u001b[0m\n\u001b[0;32m      2\u001b[0m \u001b[0mprint\u001b[0m\u001b[1;33m(\u001b[0m\u001b[1;34m\"sub2-\"\u001b[0m\u001b[1;33m,\u001b[0m \u001b[0mtorch\u001b[0m\u001b[1;33m.\u001b[0m\u001b[0msub\u001b[0m\u001b[1;33m(\u001b[0m\u001b[0mM\u001b[0m\u001b[1;33m,\u001b[0m \u001b[0mN\u001b[0m\u001b[1;33m)\u001b[0m\u001b[1;33m)\u001b[0m \u001b[1;31m# M, N都被广播成 2*3 的格式，再对应相减\u001b[0m\u001b[1;33m\u001b[0m\u001b[1;33m\u001b[0m\u001b[0m\n\u001b[1;32m----> 3\u001b[1;33m \u001b[0mM\u001b[0m\u001b[1;33m.\u001b[0m\u001b[0msub_\u001b[0m\u001b[1;33m(\u001b[0m\u001b[0mN\u001b[0m\u001b[1;33m)\u001b[0m   \u001b[1;31m# 引用操作，改变M值。\u001b[0m\u001b[1;33m\u001b[0m\u001b[1;33m\u001b[0m\u001b[0m\n\u001b[0m\u001b[0;32m      4\u001b[0m             \u001b[1;31m# 报错原因：因为是inplace操作，所以不会将M进行广播，出现矩阵大小不匹配的错误\u001b[0m\u001b[1;33m\u001b[0m\u001b[1;33m\u001b[0m\u001b[1;33m\u001b[0m\u001b[0m\n\u001b[0;32m      5\u001b[0m \u001b[0mprint\u001b[0m\u001b[1;33m(\u001b[0m\u001b[1;34m\"sub2-\"\u001b[0m\u001b[1;33m,\u001b[0m \u001b[0mM\u001b[0m\u001b[1;33m)\u001b[0m\u001b[1;33m\u001b[0m\u001b[1;33m\u001b[0m\u001b[0m\n",
      "\u001b[1;31mRuntimeError\u001b[0m: output with shape [1, 3] doesn't match the broadcast shape [2, 3]"
     ]
    }
   ],
   "source": [
    "print(\"sub1-\", M-N)\n",
    "print(\"sub2-\", torch.sub(M, N)) # M, N都被广播成 2*3 的格式，再对应相减\n",
    "M.sub_(N)   # 引用操作，改变M值。\n",
    "            # 报错原因：因为是inplace操作，所以不会将M进行广播，出现矩阵大小不匹配的错误\n",
    "print(\"sub2-\", M)"
   ]
  },
  {
   "cell_type": "markdown",
   "metadata": {},
   "source": [
    "## 2 𝐓𝐞𝐧𝐬𝐨𝐫 正态、转置、内积"
   ]
  },
  {
   "cell_type": "markdown",
   "metadata": {},
   "source": [
    "### 2.1 构造正态分布"
   ]
  },
  {
   "cell_type": "markdown",
   "metadata": {},
   "source": [
    "### 2.1 "
   ]
  },
  {
   "cell_type": "code",
   "execution_count": 14,
   "metadata": {},
   "outputs": [
    {
     "output_type": "execute_result",
     "data": {
      "text/plain": "(tensor([[-0.0117,  0.0019],\n         [-0.0040,  0.0106],\n         [-0.0209,  0.0020]]),\n tensor([[-0.0021, -0.0022],\n         [ 0.0319,  0.0053],\n         [ 0.0056,  0.0121],\n         [ 0.0126,  0.0056]]))"
     },
     "metadata": {},
     "execution_count": 14
    }
   ],
   "source": [
    "P = torch.normal(mean=0, std=0.01, size=(3, 2))\n",
    "Q = torch.normal(mean=0, std=0.01, size=(4, 2))\n",
    "P, Q"
   ]
  },
  {
   "cell_type": "code",
   "execution_count": 41,
   "metadata": {},
   "outputs": [
    {
     "output_type": "stream",
     "name": "stdout",
     "text": "tensor([[-0.0021, -0.0022],\n        [ 0.0319,  0.0053],\n        [ 0.0056,  0.0121],\n        [ 0.0126,  0.0056]])\ntensor([[-0.0021,  0.0319,  0.0056,  0.0126],\n        [-0.0022,  0.0053,  0.0121,  0.0056]])\n"
    }
   ],
   "source": [
    "print(Q)\n",
    "Q.transpose_(0, 1)  # inplace操作\n",
    "print(Q)\n",
    "#torch.transpose(Q, 0, 1) #开辟新的空间存储\n",
    "#print(Q)"
   ]
  },
  {
   "cell_type": "markdown",
   "metadata": {},
   "source": [
    "### 2.3 内积"
   ]
  },
  {
   "cell_type": "code",
   "execution_count": 46,
   "metadata": {},
   "outputs": [
    {
     "output_type": "stream",
     "name": "stdout",
     "text": "torch.Size([3, 2]) torch.Size([2, 4])\n"
    },
    {
     "output_type": "execute_result",
     "data": {
      "text/plain": "tensor([[ 2.0887e-05, -3.6251e-04, -4.1631e-05, -1.3667e-04],\n        [-1.4171e-05, -7.2213e-05,  1.0596e-04,  8.7576e-06],\n        [ 4.0387e-05, -6.5469e-04, -9.1791e-05, -2.5206e-04]])"
     },
     "metadata": {},
     "execution_count": 46
    }
   ],
   "source": [
    "print(P.size(), Q.size())\n",
    "torch.mm(P, Q)"
   ]
  },
  {
   "cell_type": "code",
   "execution_count": null,
   "metadata": {},
   "outputs": [],
   "source": []
  },
  {
   "cell_type": "markdown",
   "metadata": {},
   "source": [
    "### 2.2 转置"
   ]
  }
 ],
 "metadata": {
  "language_info": {
   "codemirror_mode": {
    "name": "ipython",
    "version": 3
   },
   "file_extension": ".py",
   "mimetype": "text/x-python",
   "name": "python",
   "nbconvert_exporter": "python",
   "pygments_lexer": "ipython3",
   "version": "3.6.10-final"
  },
  "orig_nbformat": 2,
  "kernelspec": {
   "name": "python361064bitpytorchconda65c66593025043f1910dc5b1b85bf2f5",
   "display_name": "Python 3.6.10 64-bit ('pytorch': conda)"
  }
 },
 "nbformat": 4,
 "nbformat_minor": 2
}