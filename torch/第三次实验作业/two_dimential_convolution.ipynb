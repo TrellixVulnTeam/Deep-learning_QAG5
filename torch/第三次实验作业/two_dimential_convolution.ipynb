{
 "cells": [
  {
   "cell_type": "code",
   "execution_count": 7,
   "metadata": {},
   "outputs": [],
   "source": [
    "import torch\n",
    "from torch import nn\n",
    "import numpy as np\n",
    "import torchvision\n",
    "import torchvision.transforms as transforms\n",
    "import matplotlib.pyplot as plt\n",
    "from PIL import Image"
   ]
  },
  {
   "cell_type": "code",
   "execution_count": 8,
   "metadata": {},
   "outputs": [],
   "source": [
    "device = torch.device('cuda' if torch.cuda.is_available() else 'cpu')"
   ]
  },
  {
   "cell_type": "markdown",
   "metadata": {},
   "source": [
    "## 1 生成数据并显示"
   ]
  },
  {
   "cell_type": "code",
   "execution_count": 35,
   "metadata": {},
   "outputs": [
    {
     "output_type": "stream",
     "name": "stdout",
     "text": "torch.Size([520, 100, 200, 3]) torch.Size([520, 100, 200, 3])\n"
    }
   ],
   "source": [
    "path_youwu = \"F:\\OneDrive\\AI资料\\机器学习\\浩杰给的课件\\pytorch\\实验数据\\去雾数据集\\有雾图片\"\n",
    "path_quwu = \"F:\\OneDrive\\AI资料\\机器学习\\浩杰给的课件\\pytorch\\实验数据\\去雾数据集\\去雾图片\"\n",
    "\n",
    "def readImagesToNumpy(path):\n",
    "    x = []\n",
    "    for filename in os.listdir(path, ):\n",
    "        #print(filename)\n",
    "        file = path + '\\\\' + filename\n",
    "        img = Image.open(file)\n",
    "        img = img.resize((200, 100), Image.ANTIALIAS) #read the image\n",
    "        img = np.transpose(img, (2, 0, 1))\n",
    "        img = np.array(img) # transform to numpy\n",
    "        img = img / 255 # normalize\n",
    "        #plt.imshow(img)\n",
    "        #print(img.shape)\n",
    "        x.append(img)\n",
    "    return x\n",
    "\n",
    "X = readImagesToNumpy(path_youwu)\n",
    "y = readImagesToNumpy(path_quwu)\n",
    "X = torch.tensor(X, device=device)\n",
    "y = torch.tensor(y, device=device)\n",
    "\n",
    "train_num = len(X)*4//5\n",
    "X_train = X[:train_num, :]\n",
    "y_train = y[:train_num, :]\n",
    "X_test = X[train_num:, :]\n",
    "y_test = y[train_num:, :]\n",
    "\n",
    "print(X.shape, X.device, y.shape, y.device)"
   ]
  },
  {
   "cell_type": "markdown",
   "metadata": {},
   "source": [
    "## 2 读取数据"
   ]
  },
  {
   "cell_type": "code",
   "execution_count": null,
   "metadata": {},
   "outputs": [],
   "source": [
    "batch_size = 64\n",
    "transform = transforms.Compose([\n",
    "    transforms.ToTensor(),\n",
    "    transforms.Normalize(mean=[0.5, 0.5, 0.5], std=[0.5, 0.5, 0.5])]\n",
    ")\n",
    "train_dataset = torch.utils.data.dataset(X_train, y_train, transform=transform)\n",
    "test_dataset = torch.utils.data.dataset(X_test, y_test, transform=transform)\n",
    "train_loader = torch.utils.data.DataLoader(train_dataset, batch_size=batch_size, shuffle=True)\n",
    "test_loader = torch.utils.data.Dataloader(test_dataset, batch_size=batch_size, shuffle=True)\n",
    "\n",
    "for X, y in train_dataset:\n",
    "    print(X[0, :], y[0, :])\n",
    "    plt.imshow(Image.fromarray(X[0, :]))\n",
    "    plt.imshow(Image.fromarray(y[0, :]))\n",
    "    break"
   ]
  },
  {
   "cell_type": "markdown",
   "metadata": {},
   "source": [
    "## 3 定义卷积层和模型"
   ]
  },
  {
   "cell_type": "code",
   "execution_count": 9,
   "metadata": {},
   "outputs": [],
   "source": [
    "def corr2d(X, K):\n",
    "    batch_size, H, W = X.shape\n",
    "    h_k, w_k = K.shape\n",
    "    Y = torch.zeros((batch_size, H - k_h + 1, W - k_w + 1)).to(device)\n",
    "    for i in range(Y.shape[1]):\n",
    "        for j in range(Y.shape[2]):\n",
    "            Y[:, i, j] = (X[:, i : i + k_h, j : j + k_w] * K).sum()\n",
    "    return Y\n",
    "\n",
    "def corr2d_multi_in(X, K):\n",
    "    res = corr2d(X[:, 0, :, :], K[0, :, :])\n",
    "    for i in range(1, X.shape[1]):\n",
    "        res += corr2d(X[:, i, :, :], K[i, :, :])\n",
    "    return res\n",
    "\n",
    "def corr2d_multi_in_out(X, K):\n",
    "    return torch.stack([corr2d_multi_in(X, k) for k in K], dim=1)\n",
    "\n",
    "class MyConv2D(nn.Module):\n",
    "    def __init__(self, in_channels, out_channels, kernel_size):\n",
    "        super(MyConv2D, self).__init__()\n",
    "        if isinstance(kernel_size, int):\n",
    "            kernel_size = (kernel_size, kernel_size)\n",
    "        self.weight = nn.Parameter(torch.randn((out_channels, in_channels) + kernel_size))\n",
    "        self.bias = nn.Parameter(torch.randn(out_channels, 1, 1))\n",
    "\n",
    "    def forward(self, x):\n",
    "        return corr2d_multi_in_out(x, self.weight) + self.bias"
   ]
  },
  {
   "cell_type": "code",
   "execution_count": 10,
   "metadata": {},
   "outputs": [
    {
     "output_type": "error",
     "ename": "SyntaxError",
     "evalue": "invalid syntax (<ipython-input-10-4d857bae4ba1>, line 6)",
     "traceback": [
      "\u001b[1;36m  File \u001b[1;32m\"<ipython-input-10-4d857bae4ba1>\"\u001b[1;36m, line \u001b[1;32m6\u001b[0m\n\u001b[1;33m    nn.Ba\u001b[0m\n\u001b[1;37m     ^\u001b[0m\n\u001b[1;31mSyntaxError\u001b[0m\u001b[1;31m:\u001b[0m invalid syntax\n"
     ]
    }
   ],
   "source": [
    "class MyConvModule(nn.Module):\n",
    "    def __init__():\n",
    "        super(MyConvModule, self).__init__()\n",
    "        self.conv = nn.Sequential(\n",
    "            MyCon2D(in_channels=3, out_channels=32, kernel_size=3)\n",
    "            nn.BatchNorm2d(32),\n",
    "            nn.ReLU(inplace=True)\n",
    "        )\n",
    "        self.fc = nn.Linear()"
   ]
  },
  {
   "cell_type": "code",
   "execution_count": null,
   "metadata": {},
   "outputs": [],
   "source": []
  }
 ],
 "metadata": {
  "language_info": {
   "codemirror_mode": {
    "name": "ipython",
    "version": 3
   },
   "file_extension": ".py",
   "mimetype": "text/x-python",
   "name": "python",
   "nbconvert_exporter": "python",
   "pygments_lexer": "ipython3",
   "version": "3.6.10-final"
  },
  "orig_nbformat": 2,
  "kernelspec": {
   "name": "python361064bitpytorchconda65c66593025043f1910dc5b1b85bf2f5",
   "display_name": "Python 3.6.10 64-bit ('pytorch': conda)"
  }
 },
 "nbformat": 4,
 "nbformat_minor": 2
}