{
 "cells": [
  {
   "cell_type": "code",
   "execution_count": 3,
   "metadata": {},
   "outputs": [],
   "source": [
    "import torch\n",
    "from torch import nn\n",
    "import numpy as np\n",
    "import torchvision\n",
    "import torchvision.transforms as transforms\n",
    "import matplotlib.pyplot as plt\n",
    "from PIL import Image"
   ]
  },
  {
   "cell_type": "code",
   "execution_count": 35,
   "metadata": {},
   "outputs": [
    {
     "output_type": "stream",
     "name": "stdout",
     "text": "torch.Size([520, 100, 200, 3]) torch.Size([520, 100, 200, 3])\n"
    }
   ],
   "source": [
    "path_youwu = \"F:\\OneDrive\\AI资料\\机器学习\\浩杰给的课件\\pytorch\\实验数据\\去雾数据集\\有雾图片\"\n",
    "path_quwu = \"F:\\OneDrive\\AI资料\\机器学习\\浩杰给的课件\\pytorch\\实验数据\\去雾数据集\\去雾图片\"\n",
    "\n",
    "def readImagesToNumpy(path):\n",
    "    x = []\n",
    "    for filename in os.listdir(path, ):\n",
    "        #print(filename)\n",
    "        file = path + '\\\\' + filename\n",
    "        img = Image.open(file)\n",
    "        img = img.resize((200, 100), Image.ANTIALIAS) #read the image\n",
    "        img = np.array(img) # transform to numpy\n",
    "        img = img / 255 # normalize\n",
    "        #plt.imshow(img)\n",
    "        #print(img.shape)\n",
    "        x.append(img)\n",
    "    return x\n",
    "\n",
    "X = readImagesToNumpy(path_youwu)\n",
    "y = readImagesToNumpy(path_quwu)\n",
    "X = torch.tensor(X)\n",
    "y = torch.tensor(y)\n",
    "print(X.shape, y.shape)"
   ]
  },
  {
   "cell_type": "code",
   "execution_count": null,
   "metadata": {},
   "outputs": [],
   "source": []
  }
 ],
 "metadata": {
  "language_info": {
   "codemirror_mode": {
    "name": "ipython",
    "version": 3
   },
   "file_extension": ".py",
   "mimetype": "text/x-python",
   "name": "python",
   "nbconvert_exporter": "python",
   "pygments_lexer": "ipython3",
   "version": "3.6.10-final"
  },
  "orig_nbformat": 2,
  "kernelspec": {
   "name": "python361064bitpytorchconda65c66593025043f1910dc5b1b85bf2f5",
   "display_name": "Python 3.6.10 64-bit ('pytorch': conda)"
  }
 },
 "nbformat": 4,
 "nbformat_minor": 2
}