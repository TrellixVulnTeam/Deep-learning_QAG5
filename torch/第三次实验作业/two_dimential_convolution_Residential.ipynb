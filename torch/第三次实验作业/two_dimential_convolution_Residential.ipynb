{
 "cells": [
  {
   "cell_type": "code",
   "execution_count": 1,
   "metadata": {},
   "outputs": [],
   "source": [
    "import torch\n",
    "from torch import nn\n",
    "import torch.nn.functional as F\n",
    "import numpy as np\n",
    "import torchvision\n",
    "import torchvision.transforms as transforms\n",
    "import matplotlib.pyplot as plt\n",
    "from PIL import Image\n",
    "import torch.optim as optim"
   ]
  },
  {
   "cell_type": "code",
   "execution_count": 2,
   "metadata": {},
   "outputs": [],
   "source": [
    "device = torch.device('cuda' if torch.cuda.is_available() else 'cpu')"
   ]
  },
  {
   "cell_type": "markdown",
   "metadata": {},
   "source": [
    "## 1 生成数据并显示"
   ]
  },
  {
   "cell_type": "code",
   "execution_count": 3,
   "metadata": {},
   "outputs": [],
   "source": [
    "path = \"F:\\OneDrive\\AI资料\\机器学习\\浩杰给的课件\\pytorch\\实验数据\\车辆分类数据集\"\n",
    "classes = ('bus', 'car', 'truck')\n",
    "num_classes = 3\n",
    "\n",
    "def readImagesToNumpy(path):\n",
    "    x = []\n",
    "    for filename in os.listdir(path):\n",
    "        #print(filename)\n",
    "        if filename[-3:len(filename)] not in ['jpg', 'png']:\n",
    "            continue\n",
    "        file = path + '\\\\' + filename\n",
    "        img = Image.open(file)\n",
    "        img = img.resize((32, 32), Image.ANTIALIAS) #read the image\n",
    "        img = np.transpose(img, (2, 0, 1))\n",
    "        img = np.array(img) # transform to numpy\n",
    "        img = img / 255 # normalize\n",
    "        #plt.imshow(img)\n",
    "        #plt.show()\n",
    "        #print(img.shape)\n",
    "        x.append(img)\n",
    "        #break\n",
    "    return np.array(x)\n",
    "\n",
    "def getTheTrainAndTestSet(path, classes):\n",
    "    x_trainset, y_trainset = [], []\n",
    "    x_testset, y_testset = [], []\n",
    "    for i in range(len(classes)):\n",
    "        x = readImagesToNumpy(path + '\\\\' + classes[i])\n",
    "        y = np.zeros(len(x)); y[:] = i\n",
    "\n",
    "        train_num = len(x)*4//5\n",
    "        x_train = x[:train_num, :]\n",
    "        y_train = y[:train_num]\n",
    "        x_test = x[train_num:, :]\n",
    "        y_test = y[train_num:]\n",
    "        \n",
    "        x_trainset.extend(x_train)\n",
    "        y_trainset.extend(y_train)\n",
    "        x_testset.extend(x_test)\n",
    "        y_testset.extend(y_test)\n",
    "    return x_trainset, y_trainset, x_testset, y_testset\n",
    "\n",
    "X_train, y_train, X_test, y_test = getTheTrainAndTestSet(path, classes)"
   ]
  },
  {
   "cell_type": "code",
   "execution_count": 4,
   "metadata": {
    "tags": [
     "outputPrepend"
    ]
   },
   "outputs": [
    {
     "output_type": "stream",
     "name": "stdout",
     "text": "torch.Size([1085, 3, 32, 32]) torch.Size([1085]) torch.Size([272, 3, 32, 32]) torch.Size([272])\ntensor([[[0.5529, 0.5569, 0.5529,  ..., 0.1569, 0.2824, 0.4039],\n         [0.5490, 0.5765, 0.7294,  ..., 0.2980, 0.1098, 0.0902],\n         [0.5569, 0.5922, 0.7412,  ..., 0.5686, 0.1529, 0.1059],\n         ...,\n         [0.6549, 0.6353, 0.5922,  ..., 0.2275, 0.1804, 0.2078],\n         [0.6941, 0.6353, 0.5216,  ..., 0.2784, 0.2275, 0.2000],\n         [0.6549, 0.6314, 0.5647,  ..., 0.3216, 0.2627, 0.2235]],\n\n        [[0.6667, 0.6745, 0.6627,  ..., 0.2353, 0.3569, 0.4941],\n         [0.6510, 0.6627, 0.7882,  ..., 0.3647, 0.1725, 0.1686],\n         [0.6549, 0.6667, 0.7804,  ..., 0.6196, 0.2078, 0.1725],\n         ...,\n         [0.6157, 0.5765, 0.5294,  ..., 0.3294, 0.2902, 0.3294],\n         [0.6588, 0.5882, 0.4745,  ..., 0.3804, 0.3333, 0.3137],\n         [0.6314, 0.5882, 0.5137,  ..., 0.4353, 0.3686, 0.3294]],\n\n        [[0.7137, 0.7333, 0.7333,  ..., 0.3333, 0.4745, 0.6157],\n         [0.7294, 0.7255, 0.8235,  ..., 0.4314, 0.2471, 0.2510],\n         [0.7412, 0.7216, 0.7922,  ..., 0.6627, 0.2392, 0.2157],\n         ...,\n         [0.5686, 0.5020, 0.4275,  ..., 0.4235, 0.3961, 0.4275],\n         [0.5961, 0.4980, 0.3686,  ..., 0.4784, 0.4471, 0.4196],\n         [0.5608, 0.5137, 0.4314,  ..., 0.5255, 0.4745, 0.4275]]],\n       dtype=torch.float64) tensor(0., dtype=torch.float64)\n"
    }
   ],
   "source": [
    "X_train = torch.tensor(np.array(X_train))\n",
    "y_train = torch.tensor(np.array(y_train))\n",
    "X_test = torch.tensor(np.array(X_test))\n",
    "y_test = torch.tensor(np.array(y_test))\n",
    "print(X_train.shape, y_train.shape, X_test.shape, y_test.shape)\n",
    "print(X_train[0, :], y_train[0])"
   ]
  },
  {
   "cell_type": "markdown",
   "metadata": {},
   "source": [
    "## 2 读取数据"
   ]
  },
  {
   "cell_type": "code",
   "execution_count": 5,
   "metadata": {},
   "outputs": [],
   "source": [
    "def get_labels(labels):\n",
    "    text_labels = ['bus', 'car', 'truck']\n",
    "    return [text_labels[int(i)] for i in labels]\n",
    "\n",
    "def show_images(images, labels):\n",
    "    _, figs = plt.subplots(1, len(images), figsize=(6, 6))\n",
    "    for f, img, lbl in zip(figs, images, labels):\n",
    "        img = np.transpose(img, (1, 2, 0))\n",
    "        f.imshow(img)\n",
    "        f.set_title(lbl)\n",
    "        f.axes.get_xaxis().set_visible(False)\n",
    "        f.axes.get_yaxis().set_visible(False)\n",
    "    plt.show()"
   ]
  },
  {
   "cell_type": "code",
   "execution_count": 6,
   "metadata": {},
   "outputs": [
    {
     "output_type": "display_data",
     "data": {
      "text/plain": "<Figure size 432x432 with 2 Axes>",
      "image/svg+xml": "<?xml version=\"1.0\" encoding=\"utf-8\" standalone=\"no\"?>\r\n<!DOCTYPE svg PUBLIC \"-//W3C//DTD SVG 1.1//EN\"\r\n  \"http://www.w3.org/Graphics/SVG/1.1/DTD/svg11.dtd\">\r\n<!-- Created with matplotlib (https://matplotlib.org/) -->\r\n<svg height=\"185.199943pt\" version=\"1.1\" viewBox=\"0 0 352.7 185.199943\" width=\"352.7pt\" xmlns=\"http://www.w3.org/2000/svg\" xmlns:xlink=\"http://www.w3.org/1999/xlink\">\r\n <defs>\r\n  <style type=\"text/css\">\r\n*{stroke-linecap:butt;stroke-linejoin:round;}\r\n  </style>\r\n </defs>\r\n <g id=\"figure_1\">\r\n  <g id=\"patch_1\">\r\n   <path d=\"M 0 185.199943 \r\nL 352.7 185.199943 \r\nL 352.7 0 \r\nL 0 0 \r\nz\r\n\" style=\"fill:none;\"/>\r\n  </g>\r\n  <g id=\"axes_1\">\r\n   <g id=\"patch_2\">\r\n    <path d=\"M 10.7 174.499943 \r\nL 162.881818 174.499943 \r\nL 162.881818 22.318125 \r\nL 10.7 22.318125 \r\nz\r\n\" style=\"fill:#ffffff;\"/>\r\n   </g>\r\n   <g clip-path=\"url(#p1143b61f61)\">\r\n    <image height=\"153\" id=\"imagecf1a1e12cb\" transform=\"scale(1 -1)translate(0 -153)\" width=\"153\" x=\"10.7\" xlink:href=\"data:image/png;base64,\r\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\" y=\"-21.499943\"/>\r\n   </g>\r\n   <g id=\"patch_3\">\r\n    <path d=\"M 10.7 174.499943 \r\nL 10.7 22.318125 \r\n\" style=\"fill:none;stroke:#000000;stroke-linecap:square;stroke-linejoin:miter;stroke-width:0.8;\"/>\r\n   </g>\r\n   <g id=\"patch_4\">\r\n    <path d=\"M 162.881818 174.499943 \r\nL 162.881818 22.318125 \r\n\" style=\"fill:none;stroke:#000000;stroke-linecap:square;stroke-linejoin:miter;stroke-width:0.8;\"/>\r\n   </g>\r\n   <g id=\"patch_5\">\r\n    <path d=\"M 10.7 174.499943 \r\nL 162.881818 174.499943 \r\n\" style=\"fill:none;stroke:#000000;stroke-linecap:square;stroke-linejoin:miter;stroke-width:0.8;\"/>\r\n   </g>\r\n   <g id=\"patch_6\">\r\n    <path d=\"M 10.7 22.318125 \r\nL 162.881818 22.318125 \r\n\" style=\"fill:none;stroke:#000000;stroke-linecap:square;stroke-linejoin:miter;stroke-width:0.8;\"/>\r\n   </g>\r\n   <g id=\"text_1\">\r\n    <!-- truck -->\r\n    <defs>\r\n     <path d=\"M 18.3125 70.21875 \r\nL 18.3125 54.6875 \r\nL 36.8125 54.6875 \r\nL 36.8125 47.703125 \r\nL 18.3125 47.703125 \r\nL 18.3125 18.015625 \r\nQ 18.3125 11.328125 20.140625 9.421875 \r\nQ 21.96875 7.515625 27.59375 7.515625 \r\nL 36.8125 7.515625 \r\nL 36.8125 0 \r\nL 27.59375 0 \r\nQ 17.1875 0 13.234375 3.875 \r\nQ 9.28125 7.765625 9.28125 18.015625 \r\nL 9.28125 47.703125 \r\nL 2.6875 47.703125 \r\nL 2.6875 54.6875 \r\nL 9.28125 54.6875 \r\nL 9.28125 70.21875 \r\nz\r\n\" id=\"DejaVuSans-116\"/>\r\n     <path d=\"M 41.109375 46.296875 \r\nQ 39.59375 47.171875 37.8125 47.578125 \r\nQ 36.03125 48 33.890625 48 \r\nQ 26.265625 48 22.1875 43.046875 \r\nQ 18.109375 38.09375 18.109375 28.8125 \r\nL 18.109375 0 \r\nL 9.078125 0 \r\nL 9.078125 54.6875 \r\nL 18.109375 54.6875 \r\nL 18.109375 46.1875 \r\nQ 20.953125 51.171875 25.484375 53.578125 \r\nQ 30.03125 56 36.53125 56 \r\nQ 37.453125 56 38.578125 55.875 \r\nQ 39.703125 55.765625 41.0625 55.515625 \r\nz\r\n\" id=\"DejaVuSans-114\"/>\r\n     <path d=\"M 8.5 21.578125 \r\nL 8.5 54.6875 \r\nL 17.484375 54.6875 \r\nL 17.484375 21.921875 \r\nQ 17.484375 14.15625 20.5 10.265625 \r\nQ 23.53125 6.390625 29.59375 6.390625 \r\nQ 36.859375 6.390625 41.078125 11.03125 \r\nQ 45.3125 15.671875 45.3125 23.6875 \r\nL 45.3125 54.6875 \r\nL 54.296875 54.6875 \r\nL 54.296875 0 \r\nL 45.3125 0 \r\nL 45.3125 8.40625 \r\nQ 42.046875 3.421875 37.71875 1 \r\nQ 33.40625 -1.421875 27.6875 -1.421875 \r\nQ 18.265625 -1.421875 13.375 4.4375 \r\nQ 8.5 10.296875 8.5 21.578125 \r\nz\r\nM 31.109375 56 \r\nz\r\n\" id=\"DejaVuSans-117\"/>\r\n     <path d=\"M 48.78125 52.59375 \r\nL 48.78125 44.1875 \r\nQ 44.96875 46.296875 41.140625 47.34375 \r\nQ 37.3125 48.390625 33.40625 48.390625 \r\nQ 24.65625 48.390625 19.8125 42.84375 \r\nQ 14.984375 37.3125 14.984375 27.296875 \r\nQ 14.984375 17.28125 19.8125 11.734375 \r\nQ 24.65625 6.203125 33.40625 6.203125 \r\nQ 37.3125 6.203125 41.140625 7.25 \r\nQ 44.96875 8.296875 48.78125 10.40625 \r\nL 48.78125 2.09375 \r\nQ 45.015625 0.34375 40.984375 -0.53125 \r\nQ 36.96875 -1.421875 32.421875 -1.421875 \r\nQ 20.0625 -1.421875 12.78125 6.34375 \r\nQ 5.515625 14.109375 5.515625 27.296875 \r\nQ 5.515625 40.671875 12.859375 48.328125 \r\nQ 20.21875 56 33.015625 56 \r\nQ 37.15625 56 41.109375 55.140625 \r\nQ 45.0625 54.296875 48.78125 52.59375 \r\nz\r\n\" id=\"DejaVuSans-99\"/>\r\n     <path d=\"M 9.078125 75.984375 \r\nL 18.109375 75.984375 \r\nL 18.109375 31.109375 \r\nL 44.921875 54.6875 \r\nL 56.390625 54.6875 \r\nL 27.390625 29.109375 \r\nL 57.625 0 \r\nL 45.90625 0 \r\nL 18.109375 26.703125 \r\nL 18.109375 0 \r\nL 9.078125 0 \r\nz\r\n\" id=\"DejaVuSans-107\"/>\r\n    </defs>\r\n    <g transform=\"translate(71.396222 16.318125)scale(0.12 -0.12)\">\r\n     <use xlink:href=\"#DejaVuSans-116\"/>\r\n     <use x=\"39.208984\" xlink:href=\"#DejaVuSans-114\"/>\r\n     <use x=\"80.322266\" xlink:href=\"#DejaVuSans-117\"/>\r\n     <use x=\"143.701172\" xlink:href=\"#DejaVuSans-99\"/>\r\n     <use x=\"198.681641\" xlink:href=\"#DejaVuSans-107\"/>\r\n    </g>\r\n   </g>\r\n  </g>\r\n  <g id=\"axes_2\">\r\n   <g id=\"patch_7\">\r\n    <path d=\"M 193.318182 174.499943 \r\nL 345.5 174.499943 \r\nL 345.5 22.318125 \r\nL 193.318182 22.318125 \r\nz\r\n\" style=\"fill:#ffffff;\"/>\r\n   </g>\r\n   <g clip-path=\"url(#p0fe6742a55)\">\r\n    <image height=\"153\" id=\"imagebb0a0d9add\" transform=\"scale(1 -1)translate(0 -153)\" width=\"153\" x=\"193.318182\" xlink:href=\"data:image/png;base64,\r\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\" y=\"-21.499943\"/>\r\n   </g>\r\n   <g id=\"patch_8\">\r\n    <path d=\"M 193.318182 174.499943 \r\nL 193.318182 22.318125 \r\n\" style=\"fill:none;stroke:#000000;stroke-linecap:square;stroke-linejoin:miter;stroke-width:0.8;\"/>\r\n   </g>\r\n   <g id=\"patch_9\">\r\n    <path d=\"M 345.5 174.499943 \r\nL 345.5 22.318125 \r\n\" style=\"fill:none;stroke:#000000;stroke-linecap:square;stroke-linejoin:miter;stroke-width:0.8;\"/>\r\n   </g>\r\n   <g id=\"patch_10\">\r\n    <path d=\"M 193.318182 174.499943 \r\nL 345.5 174.499943 \r\n\" style=\"fill:none;stroke:#000000;stroke-linecap:square;stroke-linejoin:miter;stroke-width:0.8;\"/>\r\n   </g>\r\n   <g id=\"patch_11\">\r\n    <path d=\"M 193.318182 22.318125 \r\nL 345.5 22.318125 \r\n\" style=\"fill:none;stroke:#000000;stroke-linecap:square;stroke-linejoin:miter;stroke-width:0.8;\"/>\r\n   </g>\r\n   <g id=\"text_2\">\r\n    <!-- car -->\r\n    <defs>\r\n     <path d=\"M 34.28125 27.484375 \r\nQ 23.390625 27.484375 19.1875 25 \r\nQ 14.984375 22.515625 14.984375 16.5 \r\nQ 14.984375 11.71875 18.140625 8.90625 \r\nQ 21.296875 6.109375 26.703125 6.109375 \r\nQ 34.1875 6.109375 38.703125 11.40625 \r\nQ 43.21875 16.703125 43.21875 25.484375 \r\nL 43.21875 27.484375 \r\nz\r\nM 52.203125 31.203125 \r\nL 52.203125 0 \r\nL 43.21875 0 \r\nL 43.21875 8.296875 \r\nQ 40.140625 3.328125 35.546875 0.953125 \r\nQ 30.953125 -1.421875 24.3125 -1.421875 \r\nQ 15.921875 -1.421875 10.953125 3.296875 \r\nQ 6 8.015625 6 15.921875 \r\nQ 6 25.140625 12.171875 29.828125 \r\nQ 18.359375 34.515625 30.609375 34.515625 \r\nL 43.21875 34.515625 \r\nL 43.21875 35.40625 \r\nQ 43.21875 41.609375 39.140625 45 \r\nQ 35.0625 48.390625 27.6875 48.390625 \r\nQ 23 48.390625 18.546875 47.265625 \r\nQ 14.109375 46.140625 10.015625 43.890625 \r\nL 10.015625 52.203125 \r\nQ 14.9375 54.109375 19.578125 55.046875 \r\nQ 24.21875 56 28.609375 56 \r\nQ 40.484375 56 46.34375 49.84375 \r\nQ 52.203125 43.703125 52.203125 31.203125 \r\nz\r\n\" id=\"DejaVuSans-97\"/>\r\n    </defs>\r\n    <g transform=\"translate(259.966591 16.318125)scale(0.12 -0.12)\">\r\n     <use xlink:href=\"#DejaVuSans-99\"/>\r\n     <use x=\"54.980469\" xlink:href=\"#DejaVuSans-97\"/>\r\n     <use x=\"116.259766\" xlink:href=\"#DejaVuSans-114\"/>\r\n    </g>\r\n   </g>\r\n  </g>\r\n </g>\r\n <defs>\r\n  <clipPath id=\"p1143b61f61\">\r\n   <rect height=\"152.181818\" width=\"152.181818\" x=\"10.7\" y=\"22.318125\"/>\r\n  </clipPath>\r\n  <clipPath id=\"p0fe6742a55\">\r\n   <rect height=\"152.181818\" width=\"152.181818\" x=\"193.318182\" y=\"22.318125\"/>\r\n  </clipPath>\r\n </defs>\r\n</svg>\r\n",
      "image/png": "[encoded data removed]"
     },
     "metadata": {
      "needs_background": "light"
     }
    }
   ],
   "source": [
    "batch_size = 2\n",
    "train_dataset = torch.utils.data.TensorDataset(X_train, y_train)\n",
    "test_dataset = torch.utils.data.TensorDataset(X_test, y_test)\n",
    "train_loader = torch.utils.data.DataLoader(train_dataset, batch_size=batch_size, shuffle=True)\n",
    "test_loader = torch.utils.data.DataLoader(test_dataset, batch_size=batch_size, shuffle=True)\n",
    "\n",
    "for X, y in train_loader:\n",
    "    show_images(X[:10, :], get_labels(y[:10]))\n",
    "    break"
   ]
  },
  {
   "cell_type": "markdown",
   "metadata": {},
   "source": [
    "## 3 定义卷积层和模型"
   ]
  },
  {
   "cell_type": "code",
   "execution_count": 7,
   "metadata": {},
   "outputs": [],
   "source": [
    "class ResidualBlock(nn.Module):\n",
    "    def __init__(self, inchannel, outchannel, stride=1):\n",
    "        super(ResidualBlock, self).__init__()\n",
    "        self.left = nn.Sequential(\n",
    "            nn.Conv2d(inchannel, outchannel, kernel_size=3, stride=stride, padding=1, bias=False),\n",
    "            nn.BatchNorm2d(outchannel),\n",
    "            nn.ReLU(inplace=True),\n",
    "            nn.Conv2d(outchannel, outchannel, kernel_size=3, stride=1, padding=1, bias=False),\n",
    "            nn.BatchNorm2d(outchannel)\n",
    "        )\n",
    "        self.shortcut = nn.Sequential()\n",
    "        if stride != 1 or inchannel != outchannel:\n",
    "            self.shortcut = nn.Sequential(\n",
    "                nn.Conv2d(inchannel, outchannel, kernel_size=1, stride=stride, bias=False),\n",
    "                nn.BatchNorm2d(outchannel)\n",
    "            )\n",
    "    def forward(self, x):\n",
    "        out = self.left(x)\n",
    "        out += self.shortcut(x)\n",
    "        out = F.relu(out) \n",
    "        return out\n",
    "\n",
    "class ResNet(nn.Module):\n",
    "    def __init__(self):\n",
    "        super(ResNet, self).__init__()\n",
    "        self.conv_start = nn.Sequential(\n",
    "            nn.Conv2d(3, 64, kernel_size=3, stride=1, padding=1, bias=False),\n",
    "            nn.BatchNorm2d(64),\n",
    "            nn.ReLU()\n",
    "        )\n",
    "        self.conv_res = nn.Sequential(\n",
    "            ResidualBlock(64, 64, 1),\n",
    "            ResidualBlock(64, 64, 1),\n",
    "\n",
    "            ResidualBlock(64, 128, 2),\n",
    "            ResidualBlock(128, 128, 1),\n",
    "\n",
    "            ResidualBlock(128, 256, 2),\n",
    "            ResidualBlock(256, 256, 1),\n",
    "\n",
    "            ResidualBlock(256, 512, 2),\n",
    "            ResidualBlock(512, 512, 1),\n",
    "        )\n",
    "        self.fc = nn.Linear(512, 3)\n",
    "    \n",
    "    def forward(self, x):\n",
    "        out = self.conv_start(x)\n",
    "        out = self.conv_res(out)\n",
    "        out = F.avg_pool2d(out, 4)\n",
    "        out = out.view(out.size(0), -1)\n",
    "        out = self.fc(out)\n",
    "        return out\n"
   ]
  },
  {
   "cell_type": "markdown",
   "metadata": {},
   "source": [
    "## 4 定义模型参数"
   ]
  },
  {
   "cell_type": "code",
   "execution_count": 8,
   "metadata": {},
   "outputs": [],
   "source": [
    "epochs = 50\n",
    "lr = 0.001\n",
    "\n",
    "net = ResNet().to(device)\n",
    "\n",
    "criterion = nn.CrossEntropyLoss()\n",
    "\n",
    "optimizer = optim.Adam(net.parameters(), lr=lr)"
   ]
  },
  {
   "cell_type": "markdown",
   "metadata": {},
   "source": [
    "## 5 训练模型"
   ]
  },
  {
   "cell_type": "code",
   "execution_count": 9,
   "metadata": {},
   "outputs": [],
   "source": [
    "def train_epoch(net, data_loader, device):\n",
    "    net.train()\n",
    "    train_batch_num = len(data_loader)\n",
    "    total_loss = 0\n",
    "    correct = 0\n",
    "    sample_num = 0\n",
    "\n",
    "    for batch_idx, (data, target) in enumerate(data_loader):\n",
    "        data = data.to(device).float()\n",
    "        target = target.to(device).long()\n",
    "\n",
    "        optimizer.zero_grad()\n",
    "        output = net(data)\n",
    "        #if len(data) == 1: output = output.view(1, len(output))\n",
    "        #print(output.shape, target.shape)\n",
    "        loss = criterion(output, target)\n",
    "        loss.backward()\n",
    "        optimizer.step()\n",
    "\n",
    "        total_loss += loss.item()\n",
    "        prediction = torch.argmax(output, dim=1)\n",
    "        correct += (prediction == target).sum().item()\n",
    "        sample_num += len(data)\n",
    "    \n",
    "    loss = total_loss / train_batch_num\n",
    "    acc = correct / sample_num\n",
    "    return loss, acc\n",
    "\n",
    "def test_epoch(net, data_loader, device):\n",
    "    net.eval()\n",
    "    test_batch_num = len(data_loader)\n",
    "    total_loss = 0\n",
    "    correct = 0\n",
    "    sample_num = 0\n",
    "\n",
    "    with torch.no_grad():\n",
    "        for batch_idx, (data, target) in enumerate(data_loader):\n",
    "            data = data.to(device).float()\n",
    "            target = target.to(device).long()\n",
    "\n",
    "            output = net(data)\n",
    "            loss = criterion(output, torch.squeeze(target).long())\n",
    "            total_loss += loss.item()\n",
    "            prediction = torch.argmax(output, dim=1)\n",
    "            correct += (prediction == target).sum().item()\n",
    "            sample_num += len(data)\n",
    "        \n",
    "    loss = total_loss / test_batch_num\n",
    "    acc = correct / sample_num\n",
    "    return loss, acc"
   ]
  },
  {
   "cell_type": "code",
   "execution_count": 10,
   "metadata": {
    "tags": [
     "outputPrepend",
     "outputPrepend",
     "outputPrepend",
     "outputPrepend",
     "outputPrepend",
     "outputPrepend",
     "outputPrepend",
     "outputPrepend",
     "outputPrepend",
     "outputPrepend",
     "outputPrepend",
     "outputPrepend",
     "outputPrepend",
     "outputPrepend",
     "outputPrepend",
     "outputPrepend",
     "outputPrepend",
     "outputPrepend",
     "outputPrepend",
     "outputPrepend",
     "outputPrepend",
     "outputPrepend",
     "outputPrepend",
     "outputPrepend",
     "outputPrepend",
     "outputPrepend",
     "outputPrepend",
     "outputPrepend",
     "outputPrepend",
     "outputPrepend",
     "outputPrepend",
     "outputPrepend",
     "outputPrepend",
     "outputPrepend",
     "outputPrepend",
     "outputPrepend",
     "outputPrepend",
     "outputPrepend",
     "outputPrepend",
     "outputPrepend",
     "outputPrepend",
     "outputPrepend",
     "outputPrepend",
     "outputPrepend",
     "outputPrepend",
     "outputPrepend",
     "outputPrepend",
     "outputPrepend",
     "outputPrepend",
     "outputPrepend",
     "outputPrepend",
     "outputPrepend"
    ]
   },
   "outputs": [
    {
     "output_type": "stream",
     "name": "stdout",
     "text": "epoch 1, train loss 0.5011, train acc 0.8129, test loss 2.4626, test acc 0.4118\nepoch 2, train loss 0.2981, train acc 0.8876, test loss 4.2009, test acc 0.3456\nepoch 3, train loss 0.2557, train acc 0.9060, test loss 3.3201, test acc 0.3272\nepoch 4, train loss 0.1994, train acc 0.9309, test loss 4.3306, test acc 0.3235\nepoch 5, train loss 0.1789, train acc 0.9290, test loss 2.9725, test acc 0.3934\nepoch 6, train loss 0.1424, train acc 0.9419, test loss 2.9882, test acc 0.3456\nepoch 7, train loss 0.1323, train acc 0.9548, test loss 5.3061, test acc 0.3235\nepoch 8, train loss 0.1508, train acc 0.9465, test loss 1.2778, test acc 0.5074\nepoch 9, train loss 0.1156, train acc 0.9548, test loss 2.6248, test acc 0.3787\nepoch 10, train loss 0.0886, train acc 0.9714, test loss 7.6515, test acc 0.3051\n"
    },
    {
     "output_type": "error",
     "ename": "KeyboardInterrupt",
     "evalue": "",
     "traceback": [
      "\u001b[1;31m---------------------------------------------------------------------------\u001b[0m",
      "\u001b[1;31mKeyboardInterrupt\u001b[0m                         Traceback (most recent call last)",
      "\u001b[1;32m<ipython-input-10-c24576ea8213>\u001b[0m in \u001b[0;36m<module>\u001b[1;34m\u001b[0m\n\u001b[0;32m      7\u001b[0m \u001b[1;33m\u001b[0m\u001b[0m\n\u001b[0;32m      8\u001b[0m \u001b[1;32mfor\u001b[0m \u001b[0mepoch\u001b[0m \u001b[1;32min\u001b[0m \u001b[0mrange\u001b[0m\u001b[1;33m(\u001b[0m\u001b[0mepochs\u001b[0m\u001b[1;33m)\u001b[0m\u001b[1;33m:\u001b[0m\u001b[1;33m\u001b[0m\u001b[1;33m\u001b[0m\u001b[0m\n\u001b[1;32m----> 9\u001b[1;33m     \u001b[0mtrain_loss\u001b[0m\u001b[1;33m,\u001b[0m \u001b[0mtrain_acc\u001b[0m \u001b[1;33m=\u001b[0m \u001b[0mtrain_epoch\u001b[0m\u001b[1;33m(\u001b[0m\u001b[0mnet\u001b[0m\u001b[1;33m,\u001b[0m \u001b[0mtrain_loader\u001b[0m\u001b[1;33m,\u001b[0m \u001b[0mdevice\u001b[0m\u001b[1;33m)\u001b[0m\u001b[1;33m\u001b[0m\u001b[1;33m\u001b[0m\u001b[0m\n\u001b[0m\u001b[0;32m     10\u001b[0m     \u001b[0mtest_loss\u001b[0m\u001b[1;33m,\u001b[0m \u001b[0mtest_acc\u001b[0m \u001b[1;33m=\u001b[0m \u001b[0mtest_epoch\u001b[0m\u001b[1;33m(\u001b[0m\u001b[0mnet\u001b[0m\u001b[1;33m,\u001b[0m \u001b[0mtest_loader\u001b[0m\u001b[1;33m,\u001b[0m \u001b[0mdevice\u001b[0m\u001b[1;33m)\u001b[0m\u001b[1;33m\u001b[0m\u001b[1;33m\u001b[0m\u001b[0m\n\u001b[0;32m     11\u001b[0m \u001b[1;33m\u001b[0m\u001b[0m\n",
      "\u001b[1;32m<ipython-input-9-ae90c3d0a456>\u001b[0m in \u001b[0;36mtrain_epoch\u001b[1;34m(net, data_loader, device)\u001b[0m\n\u001b[0;32m     16\u001b[0m         \u001b[0mloss\u001b[0m \u001b[1;33m=\u001b[0m \u001b[0mcriterion\u001b[0m\u001b[1;33m(\u001b[0m\u001b[0moutput\u001b[0m\u001b[1;33m,\u001b[0m \u001b[0mtarget\u001b[0m\u001b[1;33m)\u001b[0m\u001b[1;33m\u001b[0m\u001b[1;33m\u001b[0m\u001b[0m\n\u001b[0;32m     17\u001b[0m         \u001b[0mloss\u001b[0m\u001b[1;33m.\u001b[0m\u001b[0mbackward\u001b[0m\u001b[1;33m(\u001b[0m\u001b[1;33m)\u001b[0m\u001b[1;33m\u001b[0m\u001b[1;33m\u001b[0m\u001b[0m\n\u001b[1;32m---> 18\u001b[1;33m         \u001b[0moptimizer\u001b[0m\u001b[1;33m.\u001b[0m\u001b[0mstep\u001b[0m\u001b[1;33m(\u001b[0m\u001b[1;33m)\u001b[0m\u001b[1;33m\u001b[0m\u001b[1;33m\u001b[0m\u001b[0m\n\u001b[0m\u001b[0;32m     19\u001b[0m \u001b[1;33m\u001b[0m\u001b[0m\n\u001b[0;32m     20\u001b[0m         \u001b[0mtotal_loss\u001b[0m \u001b[1;33m+=\u001b[0m \u001b[0mloss\u001b[0m\u001b[1;33m.\u001b[0m\u001b[0mitem\u001b[0m\u001b[1;33m(\u001b[0m\u001b[1;33m)\u001b[0m\u001b[1;33m\u001b[0m\u001b[1;33m\u001b[0m\u001b[0m\n",
      "\u001b[1;32m~\\.conda\\envs\\pytorch\\lib\\site-packages\\torch\\autograd\\grad_mode.py\u001b[0m in \u001b[0;36mdecorate_context\u001b[1;34m(*args, **kwargs)\u001b[0m\n\u001b[0;32m     13\u001b[0m         \u001b[1;32mdef\u001b[0m \u001b[0mdecorate_context\u001b[0m\u001b[1;33m(\u001b[0m\u001b[1;33m*\u001b[0m\u001b[0margs\u001b[0m\u001b[1;33m,\u001b[0m \u001b[1;33m**\u001b[0m\u001b[0mkwargs\u001b[0m\u001b[1;33m)\u001b[0m\u001b[1;33m:\u001b[0m\u001b[1;33m\u001b[0m\u001b[1;33m\u001b[0m\u001b[0m\n\u001b[0;32m     14\u001b[0m             \u001b[1;32mwith\u001b[0m \u001b[0mself\u001b[0m\u001b[1;33m:\u001b[0m\u001b[1;33m\u001b[0m\u001b[1;33m\u001b[0m\u001b[0m\n\u001b[1;32m---> 15\u001b[1;33m                 \u001b[1;32mreturn\u001b[0m \u001b[0mfunc\u001b[0m\u001b[1;33m(\u001b[0m\u001b[1;33m*\u001b[0m\u001b[0margs\u001b[0m\u001b[1;33m,\u001b[0m \u001b[1;33m**\u001b[0m\u001b[0mkwargs\u001b[0m\u001b[1;33m)\u001b[0m\u001b[1;33m\u001b[0m\u001b[1;33m\u001b[0m\u001b[0m\n\u001b[0m\u001b[0;32m     16\u001b[0m         \u001b[1;32mreturn\u001b[0m \u001b[0mdecorate_context\u001b[0m\u001b[1;33m\u001b[0m\u001b[1;33m\u001b[0m\u001b[0m\n\u001b[0;32m     17\u001b[0m \u001b[1;33m\u001b[0m\u001b[0m\n",
      "\u001b[1;32m~\\.conda\\envs\\pytorch\\lib\\site-packages\\torch\\optim\\adam.py\u001b[0m in \u001b[0;36mstep\u001b[1;34m(self, closure)\u001b[0m\n\u001b[0;32m     97\u001b[0m \u001b[1;33m\u001b[0m\u001b[0m\n\u001b[0;32m     98\u001b[0m                 \u001b[1;31m# Decay the first and second moment running average coefficient\u001b[0m\u001b[1;33m\u001b[0m\u001b[1;33m\u001b[0m\u001b[1;33m\u001b[0m\u001b[0m\n\u001b[1;32m---> 99\u001b[1;33m                 \u001b[0mexp_avg\u001b[0m\u001b[1;33m.\u001b[0m\u001b[0mmul_\u001b[0m\u001b[1;33m(\u001b[0m\u001b[0mbeta1\u001b[0m\u001b[1;33m)\u001b[0m\u001b[1;33m.\u001b[0m\u001b[0madd_\u001b[0m\u001b[1;33m(\u001b[0m\u001b[0mgrad\u001b[0m\u001b[1;33m,\u001b[0m \u001b[0malpha\u001b[0m\u001b[1;33m=\u001b[0m\u001b[1;36m1\u001b[0m \u001b[1;33m-\u001b[0m \u001b[0mbeta1\u001b[0m\u001b[1;33m)\u001b[0m\u001b[1;33m\u001b[0m\u001b[1;33m\u001b[0m\u001b[0m\n\u001b[0m\u001b[0;32m    100\u001b[0m                 \u001b[0mexp_avg_sq\u001b[0m\u001b[1;33m.\u001b[0m\u001b[0mmul_\u001b[0m\u001b[1;33m(\u001b[0m\u001b[0mbeta2\u001b[0m\u001b[1;33m)\u001b[0m\u001b[1;33m.\u001b[0m\u001b[0maddcmul_\u001b[0m\u001b[1;33m(\u001b[0m\u001b[0mgrad\u001b[0m\u001b[1;33m,\u001b[0m \u001b[0mgrad\u001b[0m\u001b[1;33m,\u001b[0m \u001b[0mvalue\u001b[0m\u001b[1;33m=\u001b[0m\u001b[1;36m1\u001b[0m \u001b[1;33m-\u001b[0m \u001b[0mbeta2\u001b[0m\u001b[1;33m)\u001b[0m\u001b[1;33m\u001b[0m\u001b[1;33m\u001b[0m\u001b[0m\n\u001b[0;32m    101\u001b[0m                 \u001b[1;32mif\u001b[0m \u001b[0mamsgrad\u001b[0m\u001b[1;33m:\u001b[0m\u001b[1;33m\u001b[0m\u001b[1;33m\u001b[0m\u001b[0m\n",
      "\u001b[1;31mKeyboardInterrupt\u001b[0m: "
     ]
    }
   ],
   "source": [
    "train_loss_list = []\n",
    "train_acc_list = []\n",
    "test_loss_list = []\n",
    "test_acc_list = []\n",
    "\n",
    "torch.cuda.empty_cache()\n",
    "\n",
    "for epoch in range(epochs):\n",
    "    train_loss, train_acc = train_epoch(net, train_loader, device)\n",
    "    test_loss, test_acc = test_epoch(net, test_loader, device)\n",
    "\n",
    "    train_loss_list.append(train_loss)\n",
    "    train_acc_list.append(train_acc)\n",
    "    test_loss_list.append(test_loss)\n",
    "    test_acc_list.append(test_acc)\n",
    "\n",
    "    print('epoch %d, train loss %.4lf, train acc %.4lf, test loss %.4lf, test acc %.4lf' % (epoch + 1, train_loss, train_acc, test_loss, test_acc))"
   ]
  },
  {
   "cell_type": "code",
   "execution_count": null,
   "metadata": {},
   "outputs": [],
   "source": []
  },
  {
   "cell_type": "code",
   "execution_count": null,
   "metadata": {},
   "outputs": [],
   "source": []
  },
  {
   "cell_type": "code",
   "execution_count": null,
   "metadata": {},
   "outputs": [],
   "source": []
  },
  {
   "cell_type": "code",
   "execution_count": null,
   "metadata": {},
   "outputs": [],
   "source": []
  },
  {
   "cell_type": "code",
   "execution_count": null,
   "metadata": {},
   "outputs": [],
   "source": []
  },
  {
   "cell_type": "code",
   "execution_count": null,
   "metadata": {},
   "outputs": [],
   "source": []
  },
  {
   "cell_type": "code",
   "execution_count": null,
   "metadata": {},
   "outputs": [],
   "source": []
  },
  {
   "cell_type": "code",
   "execution_count": null,
   "metadata": {},
   "outputs": [],
   "source": []
  },
  {
   "cell_type": "code",
   "execution_count": null,
   "metadata": {},
   "outputs": [],
   "source": []
  },
  {
   "cell_type": "code",
   "execution_count": null,
   "metadata": {},
   "outputs": [],
   "source": []
  },
  {
   "cell_type": "code",
   "execution_count": null,
   "metadata": {},
   "outputs": [],
   "source": []
  },
  {
   "cell_type": "code",
   "execution_count": null,
   "metadata": {},
   "outputs": [],
   "source": []
  },
  {
   "cell_type": "code",
   "execution_count": null,
   "metadata": {},
   "outputs": [],
   "source": []
  },
  {
   "cell_type": "code",
   "execution_count": null,
   "metadata": {},
   "outputs": [],
   "source": []
  }
 ],
 "metadata": {
  "language_info": {
   "codemirror_mode": {
    "name": "ipython",
    "version": 3
   },
   "file_extension": ".py",
   "mimetype": "text/x-python",
   "name": "python",
   "nbconvert_exporter": "python",
   "pygments_lexer": "ipython3",
   "version": "3.6.10-final"
  },
  "orig_nbformat": 2,
  "kernelspec": {
   "name": "python361064bitpytorchconda65c66593025043f1910dc5b1b85bf2f5",
   "display_name": "Python 3.6.10 64-bit ('pytorch': conda)"
  }
 },
 "nbformat": 4,
 "nbformat_minor": 2
}